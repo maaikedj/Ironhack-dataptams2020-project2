{
 "cells": [
  {
   "cell_type": "markdown",
   "metadata": {},
   "source": [
    "## Maaike notebook 1 for project 2: calculating correlation between mean income and housing energy labels in Amsterdam"
   ]
  },
  {
   "cell_type": "code",
   "execution_count": null,
   "metadata": {},
   "outputs": [],
   "source": [
    "# Import packages\n",
    "import numpy as np\n",
    "import pandas as pd"
   ]
  },
  {
   "cell_type": "code",
   "execution_count": null,
   "metadata": {},
   "outputs": [],
   "source": [
    "# Import income data file\n",
    "income = pd.read_excel('2019_stadsdelen_3_15.xlsx', skiprows = [0,1,3,80,112,113])\n",
    "\n",
    "income.head()"
   ]
  },
  {
   "cell_type": "code",
   "execution_count": null,
   "metadata": {},
   "outputs": [],
   "source": [
    "income_df = income[['wijk/std', 'gemiddeld persoonlijk inkomen (x 1.000 euro)']]"
   ]
  },
  {
   "cell_type": "code",
   "execution_count": null,
   "metadata": {
    "scrolled": true
   },
   "outputs": [],
   "source": [
    "income_df = income_df.rename(columns = {'gemiddeld persoonlijk inkomen (x 1.000 euro)':'mean_income (x 1.000 euro)'})\n",
    "income_df.head()"
   ]
  },
  {
   "cell_type": "code",
   "execution_count": null,
   "metadata": {},
   "outputs": [],
   "source": [
    "income_df['area'] = income_df['wijk/std'].str.extract('([A-Z]\\d\\d)')\n",
    "income_df['area_name'] = income_df['wijk/std'].str.replace('([A-Z]\\d\\d)', '')\n",
    "income_df.head()"
   ]
  },
  {
   "cell_type": "code",
   "execution_count": null,
   "metadata": {
    "scrolled": false
   },
   "outputs": [],
   "source": [
    "income_df2 = income_df[['area', 'area_name', 'mean_income (x 1.000 euro)']]\n",
    "income_df2.head()"
   ]
  },
  {
   "cell_type": "code",
   "execution_count": null,
   "metadata": {},
   "outputs": [],
   "source": [
    "# Import energy label data\n",
    "energy_labels = pd.read_csv('Energielabels_selectie gemeentes Amsterdam 4-1-2012.csv', sep = ';')"
   ]
  },
  {
   "cell_type": "code",
   "execution_count": null,
   "metadata": {},
   "outputs": [],
   "source": [
    "energy_labels.head()"
   ]
  },
  {
   "cell_type": "code",
   "execution_count": null,
   "metadata": {
    "scrolled": false
   },
   "outputs": [],
   "source": [
    "list(energy_labels.columns)"
   ]
  },
  {
   "cell_type": "code",
   "execution_count": null,
   "metadata": {},
   "outputs": [],
   "source": [
    "energy_labels_df = energy_labels[['Pand_postcode', 'PandVanMeting_energieklasse']]\n",
    "energy_labels_df = energy_labels_df.rename(columns = {'PandVanMeting_energieklasse':'energy_class', 'Pand_postcode': 'postcode'})\n",
    "energy_labels_df.head()"
   ]
  },
  {
   "cell_type": "code",
   "execution_count": null,
   "metadata": {},
   "outputs": [],
   "source": [
    "# check energy_classes\n",
    "labels_list = sorted(list(set(energy_labels_df['energy_class'])))\n",
    "labels_list"
   ]
  },
  {
   "cell_type": "code",
   "execution_count": null,
   "metadata": {},
   "outputs": [],
   "source": [
    "# add extra column with energy classes converted to numerical score\n",
    "energy_labels_df['energy_class_score'] = energy_labels_df['energy_class'].replace({'A++': 9, 'A+': 8, 'A': 7, 'B': 6, 'C': 5, 'D': 4, 'E': 3, 'F': 2, 'G': 1})\n",
    "energy_labels_df.head()"
   ]
  },
  {
   "cell_type": "code",
   "execution_count": null,
   "metadata": {},
   "outputs": [],
   "source": [
    "# Import file with postcode to area conversion\n",
    "postcode_to_area = pd.read_csv('PC6_VLAKKEN_BAG.csv', sep = ';')\n",
    "postcode_to_area = postcode_to_area.rename(columns = {'Postcode6':'postcode'})\n",
    "postcode_to_area.head()"
   ]
  },
  {
   "cell_type": "code",
   "execution_count": null,
   "metadata": {},
   "outputs": [],
   "source": [
    "energy_labels_areas_df = pd.merge(energy_labels_df, \n",
    "                                  postcode_to_area[['postcode','Buurtcode']], \n",
    "                                  on = 'postcode', \n",
    "                                  how = 'left')"
   ]
  },
  {
   "cell_type": "code",
   "execution_count": null,
   "metadata": {
    "scrolled": true
   },
   "outputs": [],
   "source": [
    "energy_labels_areas_df.head()"
   ]
  },
  {
   "cell_type": "code",
   "execution_count": null,
   "metadata": {},
   "outputs": [],
   "source": [
    "energy_labels_areas_df['area'] = energy_labels_areas_df['Buurtcode'].str.extract('([A-Z]\\d\\d)')"
   ]
  },
  {
   "cell_type": "code",
   "execution_count": null,
   "metadata": {
    "scrolled": false
   },
   "outputs": [],
   "source": [
    "energy_labels_areas_df.head()"
   ]
  },
  {
   "cell_type": "code",
   "execution_count": null,
   "metadata": {},
   "outputs": [],
   "source": [
    "#create df with average energy class scores by area\n",
    "energy_score_area = energy_labels_areas_df.groupby('area')[['energy_class_score']].mean()\n",
    "\n",
    "energy_score_area.head()"
   ]
  },
  {
   "cell_type": "code",
   "execution_count": null,
   "metadata": {
    "scrolled": true
   },
   "outputs": [],
   "source": [
    "#merge income per area with energy class score per area \n",
    "energy_income_area = pd.merge(income_df2, energy_score_area, on = 'area', how = 'inner')\n",
    "energy_income_area.head()"
   ]
  },
  {
   "cell_type": "code",
   "execution_count": null,
   "metadata": {},
   "outputs": [],
   "source": [
    "#calculate correlation between mean energy class scores and mean income\n",
    "corr_matrix = energy_income_area.corr()\n",
    "corr_matrix\n",
    "# There is no correlation between mean income and energy class score per area"
   ]
  },
  {
   "cell_type": "code",
   "execution_count": null,
   "metadata": {
    "scrolled": true
   },
   "outputs": [],
   "source": [
    "# Now: calculate the same per city district (stadsdeel)\n",
    "# Import file with relationship city areas and districts\n",
    "\n",
    "area_info = pd.read_csv('GEBIED_BUURTCOMBINATIES.csv', sep = ';')\n",
    "area_info.head()\n"
   ]
  },
  {
   "cell_type": "code",
   "execution_count": null,
   "metadata": {},
   "outputs": [],
   "source": [
    "#create df with area and district column\n",
    "area_district = area_info[['Buurtcombinatie_code', 'Stadsdeel_code']]\n",
    "\n",
    "#rename columns:\n",
    "area_district = area_district.rename(columns = {'Buurtcombinatie_code': 'area','Stadsdeel_code': 'district'})\n",
    "area_district.head()"
   ]
  },
  {
   "cell_type": "code",
   "execution_count": null,
   "metadata": {},
   "outputs": [],
   "source": [
    "#add district info to energy income area df\n",
    "energy_income_area_district = pd.merge(energy_income_area, area_district, on = 'area', how = 'inner')\n",
    "energy_income_area_district.head()\n"
   ]
  },
  {
   "cell_type": "code",
   "execution_count": null,
   "metadata": {},
   "outputs": [],
   "source": [
    "#create new df with mean income and energy score by district\n",
    "energy_income_district = energy_income_area_district.groupby('district')[['mean_income (x 1.000 euro)','energy_class_score']].mean()\n",
    "\n",
    "# Add district names to dataframe for interpretation purposes:\n",
    "\n",
    "energy_income_district['district_names'] = ['Centrum', 'Westpoort', 'West', 'Nieuw-West', 'Zuid', 'Oost', 'Noord', 'Zuidoost']\n",
    "\n",
    "energy_income_district.head(15)\n"
   ]
  },
  {
   "cell_type": "code",
   "execution_count": null,
   "metadata": {},
   "outputs": [],
   "source": [
    "#calculate correlation between mean energy class scores and mean income per district\n",
    "corr_matrix = energy_income_district.corr()\n",
    "corr_matrix\n",
    "# There is a negative correlation between mean income and energy class score per district"
   ]
  },
  {
   "cell_type": "code",
   "execution_count": null,
   "metadata": {},
   "outputs": [],
   "source": [
    "# Export dataframe for future use\n",
    "energy_income_district.to_csv('energy_income_district.csv', index=False)"
   ]
  },
  {
   "cell_type": "code",
   "execution_count": null,
   "metadata": {},
   "outputs": [],
   "source": []
  }
 ],
 "metadata": {
  "kernelspec": {
   "display_name": "Python 3",
   "language": "python",
   "name": "python3"
  },
  "language_info": {
   "codemirror_mode": {
    "name": "ipython",
    "version": 3
   },
   "file_extension": ".py",
   "mimetype": "text/x-python",
   "name": "python",
   "nbconvert_exporter": "python",
   "pygments_lexer": "ipython3",
   "version": "3.7.1"
  }
 },
 "nbformat": 4,
 "nbformat_minor": 2
}
