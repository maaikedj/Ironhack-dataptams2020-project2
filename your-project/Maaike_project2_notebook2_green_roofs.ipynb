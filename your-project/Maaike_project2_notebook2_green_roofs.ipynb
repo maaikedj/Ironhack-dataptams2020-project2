{
 "cells": [
  {
   "cell_type": "markdown",
   "metadata": {},
   "source": [
    "## Maaike notebook 2 for project 2: adding data on green roofs in Amsterdam's city districts"
   ]
  },
  {
   "cell_type": "code",
   "execution_count": null,
   "metadata": {},
   "outputs": [],
   "source": [
    "# Import packages\n",
    "import numpy as np\n",
    "import pandas as pd"
   ]
  },
  {
   "cell_type": "code",
   "execution_count": null,
   "metadata": {},
   "outputs": [],
   "source": [
    "# Import datafile created in previous notebook with mean income and energy label score per Amsterdam city district\n",
    "data = pd.read_csv('../data/energy_income_district.csv')\n",
    "data.head()"
   ]
  },
  {
   "cell_type": "code",
   "execution_count": null,
   "metadata": {},
   "outputs": [],
   "source": [
    "# Read datafile with data on green roofs in Amsterdam\n",
    "roofs = pd.read_csv('../data/GROENE_DAKEN.csv', sep = ';')\n",
    "roofs.head()"
   ]
  },
  {
   "cell_type": "code",
   "execution_count": null,
   "metadata": {},
   "outputs": [],
   "source": [
    "roofs_selection = roofs[['Stadsdeel', 'Soort_tuin']]\n",
    "roofs_selection = roofs_selection.rename(columns = {'Soort_tuin':'green_roofs','Stadsdeel':'district_names'})\n",
    "roofs_selection.head()"
   ]
  },
  {
   "cell_type": "code",
   "execution_count": null,
   "metadata": {},
   "outputs": [],
   "source": [
    "checkdistrictnames = sorted(list(set(roofs_selection['district_names'])))\n",
    "checkdistrictnames"
   ]
  },
  {
   "cell_type": "code",
   "execution_count": null,
   "metadata": {},
   "outputs": [],
   "source": [
    "roofs_selection['district_names'] = roofs_selection['district_names'].str.replace('Nieuw-west', 'Nieuw-West')\n",
    "roofs_selection.head(10)"
   ]
  },
  {
   "cell_type": "code",
   "execution_count": null,
   "metadata": {},
   "outputs": [],
   "source": [
    "checkdistrictnames = sorted(list(set(roofs_selection['district_names'])))\n",
    "checkdistrictnames"
   ]
  },
  {
   "cell_type": "code",
   "execution_count": null,
   "metadata": {},
   "outputs": [],
   "source": [
    "#create df with number of green roofs per city district\n",
    "roofs_district = roofs_selection.groupby('district_names')[['green_roofs']].count()\n",
    "\n",
    "roofs_district.head(10)"
   ]
  },
  {
   "cell_type": "code",
   "execution_count": null,
   "metadata": {},
   "outputs": [],
   "source": []
  },
  {
   "cell_type": "code",
   "execution_count": null,
   "metadata": {},
   "outputs": [],
   "source": [
    "#add roof data to existing dataframe with income and energy score\n",
    "data_roofs = pd.merge(data, roofs_district, on= 'district_names', how = 'left')\n",
    "data_roofs.head(10)"
   ]
  },
  {
   "cell_type": "code",
   "execution_count": null,
   "metadata": {},
   "outputs": [],
   "source": [
    "# calculate correlation matrix\n",
    "corr_matrix = data_roofs.corr()\n",
    "corr_matrix\n",
    "# conclusion: there is a high correlation between mean income and green roofs!"
   ]
  },
  {
   "cell_type": "code",
   "execution_count": null,
   "metadata": {},
   "outputs": [],
   "source": [
    "# save combined dataframe for future use\n",
    "data_roofs.to_csv('../data/data_roofs.csv', index=False)"
   ]
  },
  {
   "cell_type": "code",
   "execution_count": null,
   "metadata": {},
   "outputs": [],
   "source": []
  }
 ],
 "metadata": {
  "kernelspec": {
   "display_name": "Python 3",
   "language": "python",
   "name": "python3"
  },
  "language_info": {
   "codemirror_mode": {
    "name": "ipython",
    "version": 3
   },
   "file_extension": ".py",
   "mimetype": "text/x-python",
   "name": "python",
   "nbconvert_exporter": "python",
   "pygments_lexer": "ipython3",
   "version": "3.7.1"
  }
 },
 "nbformat": 4,
 "nbformat_minor": 4
}
