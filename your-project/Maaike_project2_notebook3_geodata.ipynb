{
 "cells": [
  {
   "cell_type": "markdown",
   "metadata": {},
   "source": [
    "## Maaike notebook 3 for project 2: adding geodata on solar panels"
   ]
  },
  {
   "cell_type": "code",
   "execution_count": null,
   "metadata": {},
   "outputs": [],
   "source": [
    "import geopandas\n",
    "import numpy as np\n",
    "import pandas as pd\n",
    "from shapely.geometry import Point\n",
    "from shapely.geometry.polygon import Polygon\n",
    "from shapely import wkt"
   ]
  },
  {
   "cell_type": "code",
   "execution_count": null,
   "metadata": {
    "scrolled": true
   },
   "outputs": [],
   "source": [
    "#import solar panel csv as pandas dataframe\n",
    "solar_panels = pd.read_csv('../data/ZONNEPANELEN2017.csv', sep = ';')\n",
    "solar_panels.head()"
   ]
  },
  {
   "cell_type": "code",
   "execution_count": null,
   "metadata": {},
   "outputs": [],
   "source": [
    "#Use shapely.wkt sub-module to parse wkt format\n",
    "solar_panels['WKT_LAT_LNG'] = solar_panels['WKT_LAT_LNG'].str.replace(',',' ')\n",
    "\n",
    "solar_panels['WKT_LAT_LNG'] = solar_panels['WKT_LAT_LNG'].apply(wkt.loads)"
   ]
  },
  {
   "cell_type": "code",
   "execution_count": null,
   "metadata": {},
   "outputs": [],
   "source": [
    "#convert to geodataframe\n",
    "solar_gdf = geopandas.GeoDataFrame(solar_panels, geometry='WKT_LAT_LNG')\n",
    "\n",
    "solar_gdf.head()"
   ]
  },
  {
   "cell_type": "code",
   "execution_count": null,
   "metadata": {},
   "outputs": [],
   "source": [
    "#check whether the 'point' columns are the right datatypes\n",
    "type(solar_gdf.WKT_LAT_LNG)"
   ]
  },
  {
   "cell_type": "code",
   "execution_count": null,
   "metadata": {},
   "outputs": [],
   "source": [
    "# Import geodata defining the city districts\n",
    "districts = pd.read_csv('../data/GEBIED_STADSDELEN.csv', sep = ';')\n",
    "districts.head()"
   ]
  },
  {
   "cell_type": "code",
   "execution_count": null,
   "metadata": {},
   "outputs": [],
   "source": [
    "type(districts.WKT_LAT_LNG)"
   ]
  },
  {
   "cell_type": "code",
   "execution_count": null,
   "metadata": {},
   "outputs": [],
   "source": [
    "#Use shapely.wkt sub-module to parse wkt format\n",
    "districts['WKT_LAT_LNG'] = districts['WKT_LAT_LNG'].apply(wkt.loads)\n"
   ]
  },
  {
   "cell_type": "code",
   "execution_count": null,
   "metadata": {},
   "outputs": [],
   "source": [
    "#convert to geodataframe\n",
    "districts_gdf = geopandas.GeoDataFrame(districts, geometry='WKT_LAT_LNG')\n",
    "districts_gdf.head()"
   ]
  },
  {
   "cell_type": "code",
   "execution_count": null,
   "metadata": {},
   "outputs": [],
   "source": [
    "# Check that the correct district names are uses\n",
    "checkdistrictnames = sorted(list(set(districts_gdf['Stadsdeel'])))\n",
    "checkdistrictnames"
   ]
  },
  {
   "cell_type": "code",
   "execution_count": null,
   "metadata": {},
   "outputs": [],
   "source": [
    "#check whether the 'point' columns are the right datatypes\n",
    "type(districts_gdf.WKT_LAT_LNG)\n",
    "type(districts_gdf.WKT_LAT_LNG)"
   ]
  },
  {
   "cell_type": "code",
   "execution_count": null,
   "metadata": {},
   "outputs": [],
   "source": [
    "#select relevant columns from solar_gdf\n",
    "solar_select = solar_gdf[['Functie', 'Gedetecteerde_panelen', 'WKT_LAT_LNG']]\n",
    "solar_select = solar_select.rename(columns = {'Gedetecteerde_panelen':'solar_panels'})\n",
    "solar_select2 = solar_select[solar_select['Functie'] == 'Wonen']"
   ]
  },
  {
   "cell_type": "code",
   "execution_count": null,
   "metadata": {},
   "outputs": [],
   "source": [
    "solar_select2.head()"
   ]
  },
  {
   "cell_type": "code",
   "execution_count": null,
   "metadata": {},
   "outputs": [],
   "source": [
    "#assign the WGS84 latitude-longitude coordinate system to the geoseries\n",
    "solar_select2.crs = \"EPSG:4326\""
   ]
  },
  {
   "cell_type": "code",
   "execution_count": null,
   "metadata": {},
   "outputs": [],
   "source": [
    "#select relevant columns from districts_gdf, assign the WGS84 latitude-longitude CRS to the geoseries\n",
    "districts_select = districts_gdf[['Stadsdeel', 'WKT_LAT_LNG']]\n",
    "districts_select = districts_select.rename(columns = {'Stadsdeel':'district_names'})\n",
    "#buurten_select = buurten_select.rename(columns={'WKT_LAT_LNG': 'geometry'})\n",
    "districts_select.crs = \"EPSG:4326\""
   ]
  },
  {
   "cell_type": "code",
   "execution_count": null,
   "metadata": {
    "scrolled": true
   },
   "outputs": [],
   "source": [
    "districts_select.head(10)"
   ]
  },
  {
   "cell_type": "code",
   "execution_count": null,
   "metadata": {},
   "outputs": [],
   "source": [
    "#perform spatial join in geopandas\n",
    "join_geodata = geopandas.sjoin(districts_select, solar_select2, how=\"inner\", op=\"contains\")\n",
    "join_geodata.head(20)"
   ]
  },
  {
   "cell_type": "code",
   "execution_count": null,
   "metadata": {},
   "outputs": [],
   "source": [
    "join_geodata.shape"
   ]
  },
  {
   "cell_type": "code",
   "execution_count": null,
   "metadata": {},
   "outputs": [],
   "source": [
    "#create df with total number of solar panels per city district\n",
    "solar_district = join_geodata.groupby('district_names')[['solar_panels']].sum()\n",
    "solar_district.head(10)"
   ]
  },
  {
   "cell_type": "code",
   "execution_count": null,
   "metadata": {},
   "outputs": [],
   "source": [
    "#add district surface areas to df\n",
    "districts_m2 = districts[['Stadsdeel', 'Opp_m2']]\n",
    "districts_m2 = districts_m2.rename(columns = {'Stadsdeel':'district_names', 'Opp_m2':'area_m2'})\n",
    "solar_district2 = pd.merge(solar_district, districts_m2, on= 'district_names', how = 'inner')\n",
    "solar_district2.head(10)"
   ]
  },
  {
   "cell_type": "code",
   "execution_count": null,
   "metadata": {},
   "outputs": [],
   "source": [
    "#create extra column: number of solar panels per square kilometer\n",
    "solar_district2['solar_corr'] = ((solar_district2['solar_panels']) /  ((solar_district2['area_m2'])/1000000))"
   ]
  },
  {
   "cell_type": "code",
   "execution_count": null,
   "metadata": {},
   "outputs": [],
   "source": [
    "solar_district2.head(10)"
   ]
  },
  {
   "cell_type": "code",
   "execution_count": null,
   "metadata": {},
   "outputs": [],
   "source": [
    "# merge this data with existing data on income, energy labels and green roofs\n",
    "data = pd.read_csv('../data/data_roofs.csv')\n",
    "final_data = pd.merge(data, solar_district2[['district_names', 'solar_corr']], on= 'district_names', how = 'left')\n",
    "final_data.head(10)"
   ]
  },
  {
   "cell_type": "code",
   "execution_count": null,
   "metadata": {
    "scrolled": true
   },
   "outputs": [],
   "source": [
    "# calculate correlation matrix\n",
    "corr_matrix = final_data.corr()\n",
    "corr_matrix\n",
    "\n",
    "# conclusion: there is a negative correlation between mean income and housing energy label\n",
    "# there is a strong positive correlation between mean income and green roofs\n",
    "# and no correlation between mean income and solar panels\n",
    "# there is no clear pattern of correlation among the sustainability indicators, although green roofs and solar panels have an r = 0.4"
   ]
  },
  {
   "cell_type": "code",
   "execution_count": null,
   "metadata": {},
   "outputs": [],
   "source": [
    "# save data file for future use:\n",
    "final_data.to_csv('../data/energy_income_district.csv', index=False)"
   ]
  },
  {
   "cell_type": "code",
   "execution_count": null,
   "metadata": {},
   "outputs": [],
   "source": []
  }
 ],
 "metadata": {
  "kernelspec": {
   "display_name": "Python 3",
   "language": "python",
   "name": "python3"
  },
  "language_info": {
   "codemirror_mode": {
    "name": "ipython",
    "version": 3
   },
   "file_extension": ".py",
   "mimetype": "text/x-python",
   "name": "python",
   "nbconvert_exporter": "python",
   "pygments_lexer": "ipython3",
   "version": "3.7.1"
  }
 },
 "nbformat": 4,
 "nbformat_minor": 2
}
